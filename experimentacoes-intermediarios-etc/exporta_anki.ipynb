{
  "nbformat": 4,
  "nbformat_minor": 0,
  "metadata": {
    "colab": {
      "provenance": []
    },
    "kernelspec": {
      "name": "python3",
      "display_name": "Python 3"
    },
    "language_info": {
      "name": "python"
    }
  },
  "cells": [
    {
      "cell_type": "code",
      "execution_count": null,
      "metadata": {
        "id": "RaHVl5zq-Duu"
      },
      "outputs": [],
      "source": [
        "!pip install genanki"
      ]
    },
    {
      "cell_type": "code",
      "source": [
        "import genanki\n",
        "import random\n",
        "\n",
        "def create_flashcards (list_image_url, list_sentence, list_translation, list_audio, n_flashcard):\n",
        "  #cria conjunto de flashcards\n",
        "  my_flashcards = []\n",
        "  for i in range(n_flashcard):\n",
        "    #estrutura de um flashcard\n",
        "    flashcard = {\n",
        "            'question': f'<img src=\"{list_image_url[i]}\" /><br>{list_sentence[i]}',\n",
        "            'answer': f'{list_translation[i]}<br>[sound:{list_audio[i]}]',\n",
        "        }\n",
        "    #adiciona flashcard na lista\n",
        "    my_flashcards.append(flashcard)\n",
        "  return my_flashcards\n",
        "\n",
        "\n",
        "def create_deck (deck_name, n_flashcard):\n",
        "\n",
        "  #gerar id aleatório\n",
        "  id_deck = random.getrandbits(9)\n",
        "  id_model = random.getrandbits(9)\n",
        "\n",
        "  # Criar deck do anki\n",
        "  my_deck = genanki.Deck(\n",
        "      id_deck,  # Use um ID único\n",
        "      f'{deck_name}'\n",
        "  )\n",
        "\n",
        "  # Criar note model\n",
        "  note_model = genanki.Model(\n",
        "      id_model,  # Use um ID único\n",
        "      'Simple Model with Media',\n",
        "      fields=[\n",
        "          {'name': 'Question'},\n",
        "          {'name': 'Answer'},\n",
        "      ],\n",
        "      templates=[\n",
        "          {\n",
        "              'name': 'Card 1',\n",
        "              'qfmt': '{{Question}}',\n",
        "              'afmt': '{{FrontSide}}<hr id=\"answer\">{{Answer}}',\n",
        "          },\n",
        "      ])\n",
        "  return my_deck, note_model\n",
        "\n",
        "\n",
        "def export_to_anki (deck_name, list_image_url, list_sentence, list_translation,  list_audio, n_flashcard):\n",
        "\n",
        "  #Crie o deck\n",
        "  my_deck, note_model = create_deck (deck_name, n_flashcard)\n",
        "  # Adicione note model ao deck\n",
        "  my_deck.add_model(note_model)\n",
        "\n",
        "  # Crie e adicione os flashcards ao deck\n",
        "  my_flashcards = create_flashcards(list_image_url, list_sentence, list_translation, list_audio, n_flashcard)\n",
        "  for flashcard in my_flashcards:\n",
        "      my_note = genanki.Note(\n",
        "          model=note_model,\n",
        "          fields=[flashcard['question'], flashcard['answer']]\n",
        "      )\n",
        "      my_deck.add_note(my_note)\n",
        "\n",
        "  # Exporta o deck como um .apkg\n",
        "  my_package = genanki.Package(my_deck)\n",
        "  my_package.media_files = ['audio1.mp3', 'audio2.mp3']\n",
        "  my_package.write_to_file(f'{deck_name}.apkg')\n"
      ],
      "metadata": {
        "id": "Hm99L8D48XiA"
      },
      "execution_count": null,
      "outputs": []
    },
    {
      "cell_type": "code",
      "source": [
        "#variáveis\n",
        "list_image_url = [\n",
        "'https://cdn2.fabbon.com/uploads/article/image/1037/best-layered-haircuts.jpg',\n",
        "'https://m.media-amazon.com/images/G/32/social_share/amazon_logo._CB633267191_.png'\n",
        "]\n",
        "list_sentence = ['I need to cut my hair!', 'I love shopping on Amazon!']\n",
        "list_translation = ['Eu preciso cortar meu cabelo!', 'Eu amo comprar na Amazon!']\n",
        "list_audio = [\n",
        "    'audio1.mp3',\n",
        "    'audio2.mp3'\n",
        "    ]\n",
        "deck_name = \"deck_audio_teste14\"\n",
        "n_flashcard = 2\n",
        "\n",
        "#chamada de função\n",
        "export_to_anki(deck_name, list_image_url, list_sentence, list_translation, list_audio, n_flashcard)"
      ],
      "metadata": {
        "id": "is6yLLqI_lTl"
      },
      "execution_count": null,
      "outputs": []
    }
  ]
}