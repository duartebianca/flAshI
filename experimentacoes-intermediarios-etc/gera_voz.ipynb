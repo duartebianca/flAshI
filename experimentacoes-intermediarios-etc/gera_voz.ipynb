{
  "cells": [
    {
      "cell_type": "markdown",
      "source": [
        "#Text-To-Speech\n",
        "Vai permitir que as frases sejam faladas tanto no idioma original quanto no que escolhermos.\n",
        "\n"
      ],
      "metadata": {
        "id": "bOnrFoYMp2Op"
      }
    },
    {
      "cell_type": "code",
      "source": [
        "idiomas = {\n",
        "  'inglês':'en-US-Neural2-H',\n",
        "  'português': 'pt-BR-Neural2-C',\n",
        "  'espanhol': 'es-ES-Neural2-A'\n",
        "}"
      ],
      "metadata": {
        "id": "7ruc9MY0zov8"
      },
      "execution_count": null,
      "outputs": []
    },
    {
      "cell_type": "markdown",
      "source": [
        "##Obtenção de requisitos\n",
        "\n"
      ],
      "metadata": {
        "id": "7V6XJSJPqRz_"
      }
    },
    {
      "cell_type": "code",
      "source": [
        "!pip install google-cloud-texttospeech google-auth"
      ],
      "metadata": {
        "id": "W_LTZpfBmvhp",
        "colab": {
          "base_uri": "https://localhost:8080/",
          "height": 515
        },
        "outputId": "2ec69268-78ed-4e3f-fa60-429b1010dc87"
      },
      "execution_count": null,
      "outputs": [
        {
          "output_type": "stream",
          "name": "stdout",
          "text": [
            "Collecting google-cloud-texttospeech\n",
            "  Downloading google_cloud_texttospeech-2.14.1-py2.py3-none-any.whl (118 kB)\n",
            "\u001b[2K     \u001b[90m━━━━━━━━━━━━━━━━━━━━━━━━━━━━━━━━━━━━━━━\u001b[0m \u001b[32m119.0/119.0 kB\u001b[0m \u001b[31m2.3 MB/s\u001b[0m eta \u001b[36m0:00:00\u001b[0m\n",
            "\u001b[?25hRequirement already satisfied: google-auth in /usr/local/lib/python3.10/dist-packages (2.17.3)\n",
            "Requirement already satisfied: google-api-core[grpc]!=2.0.*,!=2.1.*,!=2.10.*,!=2.2.*,!=2.3.*,!=2.4.*,!=2.5.*,!=2.6.*,!=2.7.*,!=2.8.*,!=2.9.*,<3.0.0dev,>=1.34.0 in /usr/local/lib/python3.10/dist-packages (from google-cloud-texttospeech) (2.11.1)\n",
            "Requirement already satisfied: proto-plus<2.0.0dev,>=1.22.0 in /usr/local/lib/python3.10/dist-packages (from google-cloud-texttospeech) (1.22.3)\n",
            "Requirement already satisfied: protobuf!=3.20.0,!=3.20.1,!=4.21.0,!=4.21.1,!=4.21.2,!=4.21.3,!=4.21.4,!=4.21.5,<5.0.0dev,>=3.19.5 in /usr/local/lib/python3.10/dist-packages (from google-cloud-texttospeech) (3.20.3)\n",
            "Requirement already satisfied: cachetools<6.0,>=2.0.0 in /usr/local/lib/python3.10/dist-packages (from google-auth) (5.3.1)\n",
            "Requirement already satisfied: pyasn1-modules>=0.2.1 in /usr/local/lib/python3.10/dist-packages (from google-auth) (0.3.0)\n",
            "Requirement already satisfied: six>=1.9.0 in /usr/local/lib/python3.10/dist-packages (from google-auth) (1.16.0)\n",
            "Requirement already satisfied: rsa<5,>=3.1.4 in /usr/local/lib/python3.10/dist-packages (from google-auth) (4.9)\n",
            "Requirement already satisfied: googleapis-common-protos<2.0.dev0,>=1.56.2 in /usr/local/lib/python3.10/dist-packages (from google-api-core[grpc]!=2.0.*,!=2.1.*,!=2.10.*,!=2.2.*,!=2.3.*,!=2.4.*,!=2.5.*,!=2.6.*,!=2.7.*,!=2.8.*,!=2.9.*,<3.0.0dev,>=1.34.0->google-cloud-texttospeech) (1.60.0)\n",
            "Requirement already satisfied: requests<3.0.0.dev0,>=2.18.0 in /usr/local/lib/python3.10/dist-packages (from google-api-core[grpc]!=2.0.*,!=2.1.*,!=2.10.*,!=2.2.*,!=2.3.*,!=2.4.*,!=2.5.*,!=2.6.*,!=2.7.*,!=2.8.*,!=2.9.*,<3.0.0dev,>=1.34.0->google-cloud-texttospeech) (2.31.0)\n",
            "Requirement already satisfied: grpcio<2.0dev,>=1.33.2 in /usr/local/lib/python3.10/dist-packages (from google-api-core[grpc]!=2.0.*,!=2.1.*,!=2.10.*,!=2.2.*,!=2.3.*,!=2.4.*,!=2.5.*,!=2.6.*,!=2.7.*,!=2.8.*,!=2.9.*,<3.0.0dev,>=1.34.0->google-cloud-texttospeech) (1.57.0)\n",
            "Requirement already satisfied: grpcio-status<2.0.dev0,>=1.33.2 in /usr/local/lib/python3.10/dist-packages (from google-api-core[grpc]!=2.0.*,!=2.1.*,!=2.10.*,!=2.2.*,!=2.3.*,!=2.4.*,!=2.5.*,!=2.6.*,!=2.7.*,!=2.8.*,!=2.9.*,<3.0.0dev,>=1.34.0->google-cloud-texttospeech) (1.48.2)\n",
            "Requirement already satisfied: pyasn1<0.6.0,>=0.4.6 in /usr/local/lib/python3.10/dist-packages (from pyasn1-modules>=0.2.1->google-auth) (0.5.0)\n",
            "Requirement already satisfied: charset-normalizer<4,>=2 in /usr/local/lib/python3.10/dist-packages (from requests<3.0.0.dev0,>=2.18.0->google-api-core[grpc]!=2.0.*,!=2.1.*,!=2.10.*,!=2.2.*,!=2.3.*,!=2.4.*,!=2.5.*,!=2.6.*,!=2.7.*,!=2.8.*,!=2.9.*,<3.0.0dev,>=1.34.0->google-cloud-texttospeech) (3.2.0)\n",
            "Requirement already satisfied: idna<4,>=2.5 in /usr/local/lib/python3.10/dist-packages (from requests<3.0.0.dev0,>=2.18.0->google-api-core[grpc]!=2.0.*,!=2.1.*,!=2.10.*,!=2.2.*,!=2.3.*,!=2.4.*,!=2.5.*,!=2.6.*,!=2.7.*,!=2.8.*,!=2.9.*,<3.0.0dev,>=1.34.0->google-cloud-texttospeech) (3.4)\n",
            "Requirement already satisfied: urllib3<3,>=1.21.1 in /usr/local/lib/python3.10/dist-packages (from requests<3.0.0.dev0,>=2.18.0->google-api-core[grpc]!=2.0.*,!=2.1.*,!=2.10.*,!=2.2.*,!=2.3.*,!=2.4.*,!=2.5.*,!=2.6.*,!=2.7.*,!=2.8.*,!=2.9.*,<3.0.0dev,>=1.34.0->google-cloud-texttospeech) (2.0.4)\n",
            "Requirement already satisfied: certifi>=2017.4.17 in /usr/local/lib/python3.10/dist-packages (from requests<3.0.0.dev0,>=2.18.0->google-api-core[grpc]!=2.0.*,!=2.1.*,!=2.10.*,!=2.2.*,!=2.3.*,!=2.4.*,!=2.5.*,!=2.6.*,!=2.7.*,!=2.8.*,!=2.9.*,<3.0.0dev,>=1.34.0->google-cloud-texttospeech) (2023.7.22)\n",
            "Installing collected packages: google-cloud-texttospeech\n",
            "Successfully installed google-cloud-texttospeech-2.14.1\n"
          ]
        },
        {
          "output_type": "display_data",
          "data": {
            "application/vnd.colab-display-data+json": {
              "pip_warning": {
                "packages": [
                  "google"
                ]
              }
            }
          },
          "metadata": {}
        }
      ]
    },
    {
      "cell_type": "markdown",
      "source": [
        "##Função de texto para ogg"
      ],
      "metadata": {
        "id": "_a61g0CEqbv-"
      }
    },
    {
      "cell_type": "code",
      "execution_count": null,
      "metadata": {
        "id": "zCKrRvvjmq0J"
      },
      "outputs": [],
      "source": [
        "from google.cloud import texttospeech as tts\n",
        "import os\n",
        "# Configure as credenciais\n",
        "os.environ[\"GOOGLE_APPLICATION_CREDENTIALS\"] = \"/content/uoyant-site-394900-ce075b139fae.json\"\n",
        "\n",
        "def text_to_ogg(voice_name: str, text: str, filename:str):\n",
        "    language_code = \"-\".join(voice_name.split(\"-\")[:2])\n",
        "    text_input = tts.SynthesisInput(text=text)\n",
        "    voice_params = tts.VoiceSelectionParams(\n",
        "        language_code=language_code, name=voice_name\n",
        "    )\n",
        "    audio_config = tts.AudioConfig(audio_encoding=tts.AudioEncoding.LINEAR16)\n",
        "\n",
        "    client = tts.TextToSpeechClient()\n",
        "    response = client.synthesize_speech(\n",
        "        input=text_input,\n",
        "        voice=voice_params,\n",
        "        audio_config=audio_config,\n",
        "    )\n",
        "\n",
        "    audio_file = f\"{filename}.ogg\"\n",
        "    with open(audio_file, \"wb\") as out:\n",
        "        out.write(response.audio_content)\n",
        "        print(f'Generated speech saved to \"{audio_file}\"')"
      ]
    },
    {
      "cell_type": "markdown",
      "source": [
        "### Uso da função text_to_ogg para conversão\n",
        "Parâmetros:\n",
        "1.   tipo da voz (e idioma)\n",
        "2.   texto\n",
        "3. nome do arquivo\n",
        "\n"
      ],
      "metadata": {
        "id": "bfooM_AAqsn9"
      }
    },
    {
      "cell_type": "code",
      "source": [
        "text_to_ogg(\"en-US-Neural2-H\", \"I need to cut my hair\", 'audio1')"
      ],
      "metadata": {
        "colab": {
          "base_uri": "https://localhost:8080/"
        },
        "id": "C-Vc0eW4ndh0",
        "outputId": "3bc3aea7-4f10-4315-a29c-58d631782157"
      },
      "execution_count": null,
      "outputs": [
        {
          "output_type": "stream",
          "name": "stdout",
          "text": [
            "Generated speech saved to \"audio1.mp3\"\n"
          ]
        }
      ]
    }
  ],
  "metadata": {
    "kernelspec": {
      "display_name": ".venv",
      "language": "python",
      "name": "python3"
    },
    "language_info": {
      "name": "python",
      "version": "3.9.5"
    },
    "orig_nbformat": 4,
    "colab": {
      "provenance": []
    }
  },
  "nbformat": 4,
  "nbformat_minor": 0
}